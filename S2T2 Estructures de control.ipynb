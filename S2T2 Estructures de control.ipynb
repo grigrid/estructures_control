{
 "cells": [
  {
   "cell_type": "markdown",
   "id": "8117ab37",
   "metadata": {},
   "source": [
    "# S2T2 Estructures de control"
   ]
  },
  {
   "cell_type": "markdown",
   "id": "2b5b80d9",
   "metadata": {},
   "source": [
    "**- Exercici 1:**\n",
    "\n",
    "L'exercici consisteix a crear un programa que et classifiqui una variable numèrica en funció de l’escala Suspès/Aprovat/Notable/Excel·lent.\n",
    "\n",
    "Recorda que Suspès < 5, Aprovat > 5 i < 7, Notable > 7 i < 9 i Excel·lent > 9."
   ]
  },
  {
   "cell_type": "code",
   "execution_count": 3,
   "id": "27ee25fa",
   "metadata": {},
   "outputs": [
    {
     "name": "stdout",
     "output_type": "stream",
     "text": [
      "Invalid grade\n",
      "Failed\n",
      "Passed\n",
      "Remarkable\n",
      "Excelent\n",
      "Remarkable\n",
      "Excelent\n"
     ]
    }
   ],
   "source": [
    "def grade (num):\n",
    "    if num < 0 or num > 10:\n",
    "        return \"Invalid grade\"\n",
    "    elif num < 5:\n",
    "        return \"Failed\"\n",
    "    elif num < 7:\n",
    "        return \"Passed\"\n",
    "    elif num < 9:\n",
    "        return \"Remarkable\"\n",
    "    else:\n",
    "        return(\"Excelent\")\n",
    "        \n",
    "print(grade(-3))\n",
    "print(grade(3))\n",
    "print(grade(5))\n",
    "print(grade(7))\n",
    "print(grade(9))\n",
    "print(grade(8))\n",
    "print(grade(9.5))"
   ]
  },
  {
   "cell_type": "markdown",
   "id": "20c31cf4",
   "metadata": {},
   "source": [
    "**- Exercici 2:**\n",
    "\n",
    "Utilitzant el següent tutorial crea un programa que et pregunti dos números. T’ha de mostrar un missatge dient si el primer és més gran, el segon és més gran o són iguals.\n",
    "\n",
    "->Programiz: Python Input, Output and Import"
   ]
  },
  {
   "cell_type": "code",
   "execution_count": 4,
   "id": "de38e551",
   "metadata": {},
   "outputs": [],
   "source": [
    "def compare (num1, num2):\n",
    "    if (num1 > num2):\n",
    "        return print(f\"{num1} is bigger than {num2}\")\n",
    "    elif (num1 < num2):\n",
    "        return print(f\"{num2} is bigger than {num1}\")\n",
    "    else:\n",
    "        return print(\"Both are equals\")"
   ]
  },
  {
   "cell_type": "code",
   "execution_count": 1,
   "id": "dae3140c",
   "metadata": {},
   "outputs": [
    {
     "name": "stdout",
     "output_type": "stream",
     "text": [
      "Enter a number:3\n"
     ]
    }
   ],
   "source": [
    "num1= input (\"Enter a number:\")"
   ]
  },
  {
   "cell_type": "code",
   "execution_count": 2,
   "id": "fb544448",
   "metadata": {},
   "outputs": [
    {
     "name": "stdout",
     "output_type": "stream",
     "text": [
      "Enter another one:2\n"
     ]
    }
   ],
   "source": [
    "num2= input (\"Enter another one:\")"
   ]
  },
  {
   "cell_type": "code",
   "execution_count": 5,
   "id": "e48897b2",
   "metadata": {},
   "outputs": [
    {
     "name": "stdout",
     "output_type": "stream",
     "text": [
      "3 is bigger than 2\n"
     ]
    }
   ],
   "source": [
    "compare(num1, num2)"
   ]
  },
  {
   "cell_type": "markdown",
   "id": "d34392ff",
   "metadata": {},
   "source": [
    "**- Exercici 3:**\n",
    "\n",
    "Crea un programa que et pregunti el teu nom, i et demani un número. Si el número és 0, hauria de mostrar un missatge d’error. En cas contrari, hauria de mostrar el nom repetit tants cops com indiqui el número. Per exemple, “Joan Joan Joan”.\n"
   ]
  },
  {
   "cell_type": "code",
   "execution_count": 15,
   "id": "18253827",
   "metadata": {},
   "outputs": [
    {
     "name": "stdout",
     "output_type": "stream",
     "text": [
      "What's your name?:Ingrid\n",
      "Tell a number to repeat your name:3\n",
      "'Ingrid Ingrid Ingrid '\n"
     ]
    }
   ],
   "source": [
    "def repeatName ():\n",
    "    name=input(\"What's your name?:\")\n",
    "    num=int(input(\"Tell a number to repeat your name:\"))\n",
    "    if num==0:\n",
    "        print(\"It's not possible repeat your name 0 times\")\n",
    "    print(\"'\"+(name+\" \")*num + \"'\")\n",
    "    \n",
    "    # for i in range(num):\n",
    "    #    print(name,end=\" \")\n",
    "\n",
    "repeatName()"
   ]
  },
  {
   "cell_type": "markdown",
   "id": "c185ba1d",
   "metadata": {},
   "source": [
    "**- Exercici 4:**\n",
    "\n",
    "Crea un programa que donada una llista qualsevol, et digui si és simètrica o no. Si ho és, que et digui quants elements té."
   ]
  },
  {
   "cell_type": "code",
   "execution_count": 32,
   "id": "93423f14",
   "metadata": {},
   "outputs": [
    {
     "name": "stdout",
     "output_type": "stream",
     "text": [
      " [1, 2, 3, 2, 1] is symetric and has 5 elements\n",
      " ['s', 1, 's'] is symetric and has 3 elements\n",
      " [10, 1, 0] is not symetric\n"
     ]
    }
   ],
   "source": [
    "def symetricList(list):\n",
    "    list2=list[::-1]\n",
    "    if list==list2:\n",
    "        print(f\" {list} is symetric and has {len(list)} elements\")\n",
    "    else:\n",
    "        print(f\" {list} is not symetric\")\n",
    "    \n",
    "\n",
    "\n",
    "symetricList([1,2,3,2,1])\n",
    "symetricList([\"s\",1,\"s\"])\n",
    "symetricList([10,1,0])"
   ]
  },
  {
   "cell_type": "markdown",
   "id": "4790dc3b",
   "metadata": {},
   "source": [
    "**- Exercici 5:**\n",
    "\n",
    "Crea un programa que donada una llista, et digui quants números coincideixen amb la seva posició. Per exemple [3,4,2,0,2,3,6] el 2 i el 6 coincideixen."
   ]
  },
  {
   "cell_type": "code",
   "execution_count": 40,
   "id": "8f4bef1d",
   "metadata": {},
   "outputs": [
    {
     "name": "stdout",
     "output_type": "stream",
     "text": [
      "0 matches with his position\n",
      "1 matches with his position\n",
      "4 matches with his position\n",
      "Total are 3 numbers\n"
     ]
    }
   ],
   "source": [
    "def equalPosition (list):\n",
    "    count=0\n",
    "    for i in range (len(list)):\n",
    "        if i==list[i]:\n",
    "            print(f\"{i} matches with his position\")\n",
    "            count=count+1\n",
    "    return print( f\"Total are {count} numbers\")\n",
    "\n",
    "equalPosition ([0,1,3,4,4,4])"
   ]
  }
 ],
 "metadata": {
  "kernelspec": {
   "display_name": "Python 3 (ipykernel)",
   "language": "python",
   "name": "python3"
  },
  "language_info": {
   "codemirror_mode": {
    "name": "ipython",
    "version": 3
   },
   "file_extension": ".py",
   "mimetype": "text/x-python",
   "name": "python",
   "nbconvert_exporter": "python",
   "pygments_lexer": "ipython3",
   "version": "3.9.7"
  },
  "toc": {
   "base_numbering": 1,
   "nav_menu": {},
   "number_sections": true,
   "sideBar": true,
   "skip_h1_title": false,
   "title_cell": "Table of Contents",
   "title_sidebar": "Contents",
   "toc_cell": false,
   "toc_position": {},
   "toc_section_display": true,
   "toc_window_display": false
  }
 },
 "nbformat": 4,
 "nbformat_minor": 5
}
